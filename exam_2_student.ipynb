{
 "cells": [
  {
   "cell_type": "markdown",
   "metadata": {},
   "source": [
    "# Exam R\n",
    "Mark Klik & Misja Mikkers\n",
    "\n",
    "# Introduction\n",
    "\n",
    "Before you turn this problem in, make sure everything runs as expected. First, **restart the kernel** (in the menubar, select Kernel$\\rightarrow$Restart) and then **run all cells** (in the menubar, select Cell$\\rightarrow$Run All).\n",
    "\n",
    "Make sure you fill in any place that says `YOUR CODE HERE` or \"YOUR ANSWER HERE\", as well as your name and collaborators below:\n",
    "\n"
   ]
  },
  {
   "cell_type": "code",
   "execution_count": 1,
   "metadata": {},
   "outputs": [],
   "source": [
    "NAME = \"Menno Pomp, 2016110\"\n",
    "COLLABORATORS = \"\""
   ]
  },
  {
   "cell_type": "markdown",
   "metadata": {},
   "source": [
    "Fill in the cell above to provide us with your name and student number, like\n",
    "\n",
    "NAME = \"Adam Smith, #student number#\"\n",
    "\n",
    "where you replace \"#student number#\" with your ... (very good!)\n",
    "\n",
    "Unfortunately, you are not allowed to work with \"COLLABORATORS\" in this exam.\n",
    "\n",
    "## exam September 21th, 2018\n",
    "\n",
    "With this R part of the exam you can earn at max. 4 points.\n",
    "\n",
    "In the first cell of the notebook, give us your name and student number in the way indicated above.\n",
    "\n",
    "Fill in the notebook (see below for code cells and text cells that you need to fill in).\n",
    "\n",
    "If you look at the menus above (File, Edit, View etc.), there is one called \"Cell\". If you click on this, you can change the \"Cell Type\". Choose \"Code\" when you are typing python or R code. Choose \"Markdown\" when you are typing, well, markdown.\n",
    "\n",
    "When you finish the notebook, make sure that you save it with the output of your code included.\n",
    "\n",
    "Then put it on github, e.g. by dragging it onto github (see instructions below).\n",
    "\n",
    "Finally, add a link to your README file with the name of this exam: \"Exam R September 7, 2018\".\n",
    "\n",
    "# Packages\n",
    "\n",
    "You will need the following packages for this exam."
   ]
  },
  {
   "cell_type": "code",
   "execution_count": 8,
   "metadata": {},
   "outputs": [
    {
     "name": "stderr",
     "output_type": "stream",
     "text": [
      "-- Attaching packages --------------------------------------- tidyverse 1.2.1 --\n",
      "v ggplot2 2.2.1     v purrr   0.2.4\n",
      "v tibble  1.4.1     v dplyr   0.7.4\n",
      "v tidyr   0.7.2     v stringr 1.2.0\n",
      "v readr   1.1.1     v forcats 0.2.0\n",
      "-- Conflicts ------------------------------------------ tidyverse_conflicts() --\n",
      "x dplyr::filter() masks stats::filter()\n",
      "x dplyr::lag()    masks stats::lag()\n",
      "Loading required package: xts\n",
      "Loading required package: zoo\n",
      "\n",
      "Attaching package: 'zoo'\n",
      "\n",
      "The following objects are masked from 'package:base':\n",
      "\n",
      "    as.Date, as.Date.numeric\n",
      "\n",
      "\n",
      "Attaching package: 'xts'\n",
      "\n",
      "The following objects are masked from 'package:dplyr':\n",
      "\n",
      "    first, last\n",
      "\n",
      "\n",
      "Attaching package: 'PerformanceAnalytics'\n",
      "\n",
      "The following object is masked from 'package:graphics':\n",
      "\n",
      "    legend\n",
      "\n"
     ]
    }
   ],
   "source": [
    "library(tidyverse)\n",
    "library(PerformanceAnalytics)\n",
    "library(gvlma)\n",
    "\n"
   ]
  },
  {
   "cell_type": "markdown",
   "metadata": {},
   "source": [
    "# Assignment 1\n",
    "\n",
    "## Data\n",
    "\n",
    "Please read in \"Medicaid.csv\" and check the structure.\n",
    "\n",
    "If needed change the variables Recipients and Total_costs into a numeric variable.\n",
    "\n",
    "Hint: don't forget you cannot change a factor in a numeric variable directly!\n",
    "\n"
   ]
  },
  {
   "cell_type": "code",
   "execution_count": 42,
   "metadata": {},
   "outputs": [
    {
     "data": {
      "text/plain": [
       "      Year        Recipients       Total_costs       \n",
       " Min.   :2003   Min.   :4267573   Min.   :3.614e+10  \n",
       " 1st Qu.:2006   1st Qu.:4657242   1st Qu.:4.080e+10  \n",
       " Median :2009   Median :4911408   Median :4.702e+10  \n",
       " Mean   :2009   Mean   :5196952   Mean   :4.589e+10  \n",
       " 3rd Qu.:2012   3rd Qu.:5598237   3rd Qu.:4.973e+10  \n",
       " Max.   :2015   Max.   :6700524   Max.   :5.565e+10  "
      ]
     },
     "metadata": {},
     "output_type": "display_data"
    }
   ],
   "source": [
    "df <- read.csv2(\"Medicaid.csv\") \n",
    "\n",
    "\n",
    "summary(df)"
   ]
  },
  {
   "cell_type": "markdown",
   "metadata": {},
   "source": [
    "I read in the data as df, and bring up the summary to get an impression."
   ]
  },
  {
   "cell_type": "code",
   "execution_count": 43,
   "metadata": {},
   "outputs": [
    {
     "name": "stderr",
     "output_type": "stream",
     "text": [
      "Warning message:\n",
      "\"packages 'PerformanceAnalytics', 'gvlma' are in use and will not be installed\""
     ]
    }
   ],
   "source": [
    "install.packages(c('PerformanceAnalytics', 'gvlma'))"
   ]
  },
  {
   "cell_type": "markdown",
   "metadata": {},
   "source": [
    "\n",
    "\n",
    "## New variable\n",
    "\n",
    "You will now have to make a new variable called \"Cost_per_Recipient\" by dividing the variable \"Total_Costs\" by the variable \"Recipients\". You will have to use the \"pipe-operator\". You have to show the \"head\" of the dataframe."
   ]
  },
  {
   "cell_type": "code",
   "execution_count": 45,
   "metadata": {},
   "outputs": [
    {
     "data": {
      "text/html": [
       "<table>\n",
       "<thead><tr><th scope=col>Year</th><th scope=col>Recipients</th><th scope=col>Total_costs</th><th scope=col>Cost_per_Recipient</th></tr></thead>\n",
       "<tbody>\n",
       "\t<tr><td>2003       </td><td>4267573    </td><td>36142075737</td><td>8469       </td></tr>\n",
       "\t<tr><td>2004       </td><td>4594667    </td><td>38926018824</td><td>8472       </td></tr>\n",
       "\t<tr><td>2005       </td><td>4733617    </td><td>40803778540</td><td>8620       </td></tr>\n",
       "\t<tr><td>2006       </td><td>4730167    </td><td>40712547369</td><td>8607       </td></tr>\n",
       "\t<tr><td>2007       </td><td>4622782    </td><td>42127412366</td><td>9113       </td></tr>\n",
       "\t<tr><td>2008       </td><td>4657242    </td><td>44239141758</td><td>9499       </td></tr>\n",
       "</tbody>\n",
       "</table>\n"
      ],
      "text/latex": [
       "\\begin{tabular}{r|llll}\n",
       " Year & Recipients & Total\\_costs & Cost\\_per\\_Recipient\\\\\n",
       "\\hline\n",
       "\t 2003        & 4267573     & 36142075737 & 8469       \\\\\n",
       "\t 2004        & 4594667     & 38926018824 & 8472       \\\\\n",
       "\t 2005        & 4733617     & 40803778540 & 8620       \\\\\n",
       "\t 2006        & 4730167     & 40712547369 & 8607       \\\\\n",
       "\t 2007        & 4622782     & 42127412366 & 9113       \\\\\n",
       "\t 2008        & 4657242     & 44239141758 & 9499       \\\\\n",
       "\\end{tabular}\n"
      ],
      "text/markdown": [
       "\n",
       "Year | Recipients | Total_costs | Cost_per_Recipient | \n",
       "|---|---|---|---|---|---|\n",
       "| 2003        | 4267573     | 36142075737 | 8469        | \n",
       "| 2004        | 4594667     | 38926018824 | 8472        | \n",
       "| 2005        | 4733617     | 40803778540 | 8620        | \n",
       "| 2006        | 4730167     | 40712547369 | 8607        | \n",
       "| 2007        | 4622782     | 42127412366 | 9113        | \n",
       "| 2008        | 4657242     | 44239141758 | 9499        | \n",
       "\n",
       "\n"
      ],
      "text/plain": [
       "  Year Recipients Total_costs Cost_per_Recipient\n",
       "1 2003 4267573    36142075737 8469              \n",
       "2 2004 4594667    38926018824 8472              \n",
       "3 2005 4733617    40803778540 8620              \n",
       "4 2006 4730167    40712547369 8607              \n",
       "5 2007 4622782    42127412366 9113              \n",
       "6 2008 4657242    44239141758 9499              "
      ]
     },
     "metadata": {},
     "output_type": "display_data"
    }
   ],
   "source": [
    "df <- df %>%\n",
    "mutate(Cost_per_Recipient = Total_costs/Recipients)\n",
    "head(df)"
   ]
  },
  {
   "cell_type": "code",
   "execution_count": null,
   "metadata": {},
   "outputs": [],
   "source": [
    "mutate df by adding a column which is given by a the ratio of two other variables."
   ]
  },
  {
   "cell_type": "markdown",
   "metadata": {},
   "source": [
    "## Plot 1\n",
    "\n",
    "Now you have to make a line plot of the data:\n",
    "\n",
    "* with Year on the x-axis\n",
    "* Cost_per_Recipient on the y-axis\n",
    "* The line should have size 3 and the color \"red\"\n",
    "* The name on the Y axis should be \"Cost per enrollee\"\n",
    "\n",
    "\n"
   ]
  },
  {
   "cell_type": "code",
   "execution_count": 49,
   "metadata": {},
   "outputs": [
    {
     "name": "stderr",
     "output_type": "stream",
     "text": [
      "`geom_smooth()` using method = 'loess'\n"
     ]
    },
    {
     "data": {},
     "metadata": {},
     "output_type": "display_data"
    },
    {
     "data": {
      "image/png": "[encoded data removed]",
      "text/plain": [
       "plot without title"
      ]
     },
     "metadata": {},
     "output_type": "display_data"
    }
   ],
   "source": [
    " plot <-ggplot(data = df, aes(x = Year, y = Cost_per_Recipient)) +\n",
    "  geom_smooth(color = \"red\", size = 3, se = FALSE) \n",
    "plot + labs(x = \"Years\") + labs(y=\"Cost per enrollee\") + scale_x_continuous(breaks= df$Year) \n",
    "\n",
    "\n",
    "\n",
    "\n",
    "\n",
    "\n"
   ]
  },
  {
   "cell_type": "markdown",
   "metadata": {},
   "source": [
    "I used ggplot to make the plot. I used the labs() command to add labels. Also, I used scale_x_continuous(breaks=df$Year) because the years on the x axis where given with numbers behind the decimal seperator, and I offcourse wanted them as integers. This worked."
   ]
  },
  {
   "cell_type": "markdown",
   "metadata": {},
   "source": [
    "End of notebook"
   ]
  }
 ],
 "metadata": {
  "anaconda-cloud": {},
  "kernelspec": {
   "display_name": "R",
   "language": "R",
   "name": "ir"
  },
  "language_info": {
   "codemirror_mode": "r",
   "file_extension": ".r",
   "mimetype": "text/x-r-source",
   "name": "R",
   "pygments_lexer": "r",
   "version": "3.4.3"
  }
 },
 "nbformat": 4,
 "nbformat_minor": 1
}
